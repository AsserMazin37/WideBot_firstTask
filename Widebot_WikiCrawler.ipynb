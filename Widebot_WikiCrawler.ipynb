{
  "nbformat": 4,
  "nbformat_minor": 0,
  "metadata": {
    "colab": {
      "name": "Widebot_WikiCrawler.ipynb",
      "provenance": [],
      "collapsed_sections": []
    },
    "kernelspec": {
      "name": "python3",
      "display_name": "Python 3"
    }
  },
  "cells": [
    {
      "cell_type": "markdown",
      "metadata": {
        "id": "4laNJF-ZB8cM",
        "colab_type": "text"
      },
      "source": [
        "**HERE IS THE FIRST TASK RECIEVED FROM WIDEBOT**"
      ]
    },
    {
      "cell_type": "markdown",
      "metadata": {
        "id": "koVmPbzzAWWP",
        "colab_type": "text"
      },
      "source": [
        "Let's import the required libraries\n"
      ]
    },
    {
      "cell_type": "code",
      "metadata": {
        "id": "kot1lDRKPKdb",
        "colab_type": "code",
        "colab": {}
      },
      "source": [
        "from bs4 import BeautifulSoup\n",
        "import urllib\n",
        "import time\n",
        "import requests"
      ],
      "execution_count": 487,
      "outputs": []
    },
    {
      "cell_type": "markdown",
      "metadata": {
        "id": "6lRkNVCQDhBe",
        "colab_type": "text"
      },
      "source": [
        "Set our starting and target urls\n"
      ]
    },
    {
      "cell_type": "code",
      "metadata": {
        "id": "xJZz8RE5VN70",
        "colab_type": "code",
        "colab": {}
      },
      "source": [
        "start_url = \"https://en.wikipedia.org/wiki/Special:Random\"\n",
        "\n",
        "target_url = \"https://en.wikipedia.org/wiki/Philosophy\"\n",
        " \n",
        "all_urls = [start_url] # store all urls in a list"
      ],
      "execution_count": 488,
      "outputs": []
    },
    {
      "cell_type": "markdown",
      "metadata": {
        "id": "fxq4LCFyEe-i",
        "colab_type": "text"
      },
      "source": [
        "The find_first func gets request to the specified url then parses the text in that url by using BeautifulSoup library and then it loops in the paragraph of the article and tries to find a link within it, if found it builds a new url with this link."
      ]
    },
    {
      "cell_type": "code",
      "metadata": {
        "id": "5owFMGgbd-ed",
        "colab_type": "code",
        "colab": {}
      },
      "source": [
        "def find_first(url):\n",
        "    response = requests.get(url)\n",
        "    html = response.text\n",
        "    soup = BeautifulSoup(html, \"html.parser\")\n",
        "\n",
        "    # start with the body of the article provided by the url \n",
        "    content_div = soup.find(id=\"mw-content-text\").find(class_=\"mw-parser-output\")\n",
        "\n",
        "    article_link = None\n",
        "\n",
        "    # Find all the direct children of content_div that are paragraphs\n",
        "    for element in content_div.find_all(\"p\", recursive=False):\n",
        "        #find only the direct children\n",
        "        if element.find(\"a\", recursive=False):\n",
        "            article_link = element.find(\"a\", recursive=False).get('href')\n",
        "            break\n",
        "    \n",
        "    # if the article_link is still None then return it\n",
        "    if not article_link:\n",
        "        return\n",
        "\n",
        "    # Build the new url if the article_link is not empty\n",
        "    first_link = urllib.parse.urljoin('https://en.wikipedia.org/', article_link)\n",
        "\n",
        "    return first_link"
      ],
      "execution_count": 489,
      "outputs": []
    },
    {
      "cell_type": "markdown",
      "metadata": {
        "id": "6ykr2yfLIwjR",
        "colab_type": "text"
      },
      "source": [
        "The continue_scraping func checks if we arrived at the target url or if we've reached our maximum number of iterations or if we had already visited a link before (the urls_history parameter is a list with all links visited from the beginning) and finally if nothing from all these conditions had been fulfilled then we are goof to continue scraping"
      ]
    },
    {
      "cell_type": "code",
      "metadata": {
        "id": "StBwLWuI_TR0",
        "colab_type": "code",
        "colab": {}
      },
      "source": [
        "def continue_scraping(urls_history, target_url, max_steps=50):\n",
        "    \n",
        "    # if reached philosphy\n",
        "    if urls_history[-1] == target_url:\n",
        "        print(\"Target ('Philosphy') article reached!\")\n",
        "        return False\n",
        "\n",
        "    # if reached maximum iterations \n",
        "    elif len(urls_history) > max_steps:\n",
        "        print(\"Reached maximum searches, abandoning crawling!\")\n",
        "        return False\n",
        "\n",
        "    # if we had already visited this link before while scraping\n",
        "    elif urls_history[-1] in urls_history[:-1]:\n",
        "        print(\"We visited this link before, abandoning crawling!\")\n",
        "        return False\n",
        "    else:\n",
        "        return True"
      ],
      "execution_count": 490,
      "outputs": []
    },
    {
      "cell_type": "code",
      "metadata": {
        "id": "rFcEo9SpeEBl",
        "colab_type": "code",
        "colab": {
          "base_uri": "https://localhost:8080/",
          "height": 428
        },
        "outputId": "e8861f20-d10e-4432-c17c-c7405732c604"
      },
      "source": [
        "while continue_scraping(all_urls, target_url):\n",
        "    print(all_urls[-1])\n",
        "    first_link = find_first(all_urls[-1])\n",
        "\n",
        "    # if we arrived with an article with no links inside\n",
        "    if not first_link:\n",
        "        print(\"Arrived at an article with no links, abandoning crawling!\")\n",
        "        break\n",
        "\n",
        "    all_urls.append(first_link)\n",
        "\n",
        "    time.sleep(0.5)  # Slow things down so as to not overload Wikipedia's servers"
      ],
      "execution_count": 491,
      "outputs": [
        {
          "output_type": "stream",
          "text": [
            "https://en.wikipedia.org/wiki/Special:Random\n",
            "https://en.wikipedia.org/wiki/Y._Ramavaram_Mandal\n",
            "https://en.wikipedia.org/wiki/East_Godavari_district\n",
            "https://en.wikipedia.org/wiki/Coastal_Andhra\n",
            "https://en.wikipedia.org/wiki/Andhra_Pradesh\n",
            "https://en.wikipedia.org/wiki/States_and_union_territories_of_India\n",
            "https://en.wikipedia.org/wiki/India\n",
            "https://en.wikipedia.org/wiki/Hindi\n",
            "https://en.wikipedia.org/wiki/Devanagari\n",
            "https://en.wikipedia.org/wiki/Help:Pronunciation_respelling_key\n",
            "https://en.wikipedia.org/wiki/Pronunciation_respelling_for_English\n",
            "https://en.wikipedia.org/wiki/Pronunciation_respelling\n",
            "https://en.wikipedia.org/wiki/Nonce_word\n",
            "https://en.wikipedia.org/wiki/Lexeme\n",
            "https://en.wikipedia.org/wiki/Lexical_semantics\n",
            "https://en.wikipedia.org/wiki/Linguistics\n",
            "https://en.wikipedia.org/wiki/Science\n",
            "https://en.wikipedia.org/wiki/Latin\n",
            "https://en.wikipedia.org/wiki/Classical_language\n",
            "https://en.wikipedia.org/wiki/Language\n",
            "https://en.wikipedia.org/wiki/Grammar\n",
            "We visited this link before, abandoning crawling!\n",
            "['https://en.wikipedia.org/wiki/Special:Random', 'https://en.wikipedia.org/wiki/Y._Ramavaram_Mandal', 'https://en.wikipedia.org/wiki/East_Godavari_district', 'https://en.wikipedia.org/wiki/Coastal_Andhra', 'https://en.wikipedia.org/wiki/Andhra_Pradesh', 'https://en.wikipedia.org/wiki/States_and_union_territories_of_India', 'https://en.wikipedia.org/wiki/India', 'https://en.wikipedia.org/wiki/Hindi', 'https://en.wikipedia.org/wiki/Devanagari', 'https://en.wikipedia.org/wiki/Help:Pronunciation_respelling_key', 'https://en.wikipedia.org/wiki/Pronunciation_respelling_for_English', 'https://en.wikipedia.org/wiki/Pronunciation_respelling', 'https://en.wikipedia.org/wiki/Nonce_word', 'https://en.wikipedia.org/wiki/Lexeme', 'https://en.wikipedia.org/wiki/Lexical_semantics', 'https://en.wikipedia.org/wiki/Linguistics', 'https://en.wikipedia.org/wiki/Science', 'https://en.wikipedia.org/wiki/Latin', 'https://en.wikipedia.org/wiki/Classical_language', 'https://en.wikipedia.org/wiki/Language', 'https://en.wikipedia.org/wiki/Grammar', 'https://en.wikipedia.org/wiki/Linguistics']\n"
          ],
          "name": "stdout"
        }
      ]
    },
    {
      "cell_type": "code",
      "metadata": {
        "id": "KcZ5wMKhG4fu",
        "colab_type": "code",
        "colab": {}
      },
      "source": [
        ""
      ],
      "execution_count": 491,
      "outputs": []
    }
  ]
}